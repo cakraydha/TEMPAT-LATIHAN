{
 "cells": [
  {
   "cell_type": "code",
   "execution_count": 3,
   "id": "81a39c40",
   "metadata": {},
   "outputs": [
    {
     "name": "stdout",
     "output_type": "stream",
     "text": [
      "[ 440  585 5056]\n"
     ]
    }
   ],
   "source": [
    "# perkalian matrix\n",
    "\n",
    "import numpy as np\n",
    "A = np.array([20, 45, 64])\n",
    "B = np.array([22, 13, 79])\n",
    "\n",
    "kali = A * B\n",
    "print(kali)"
   ]
  },
  {
   "cell_type": "code",
   "execution_count": 4,
   "id": "8686d7d7",
   "metadata": {},
   "outputs": [
    {
     "name": "stdout",
     "output_type": "stream",
     "text": [
      "[ -2  32 -15]\n"
     ]
    }
   ],
   "source": [
    "# pengurangan matrix\n",
    "\n",
    "import numpy as np\n",
    "A = np.array([20, 45, 64])\n",
    "B = np.array([22, 13, 79])\n",
    "\n",
    "kurang = A - B\n",
    "print(kurang)"
   ]
  },
  {
   "cell_type": "code",
   "execution_count": 6,
   "id": "c335e4d5",
   "metadata": {},
   "outputs": [
    {
     "name": "stdout",
     "output_type": "stream",
     "text": [
      "[[20 22]\n",
      " [45 13]\n",
      " [64 79]]\n"
     ]
    }
   ],
   "source": [
    "# transpose matrix\n",
    "\n",
    "import numpy as np\n",
    "A = np.array([[20, 45, 64], [22, 13, 79]])\n",
    "\n",
    "transpose_A = np.transpose(A)\n",
    "print(transpose_A)"
   ]
  },
  {
   "cell_type": "code",
   "execution_count": 7,
   "id": "bd35d1f8",
   "metadata": {},
   "outputs": [
    {
     "name": "stdout",
     "output_type": "stream",
     "text": [
      "\n",
      "Invers matriks A: \n",
      "[[ 0.09208633 -0.0647482 ]\n",
      " [-0.01870504  0.02877698]]\n"
     ]
    }
   ],
   "source": [
    "# nilai invers\n",
    "\n",
    "import numpy as np\n",
    "A = np.array([[20, 45], [13, 64]])\n",
    "\n",
    "invers_A = np.linalg.inv(A)\n",
    "print(\"\\nInvers matriks A: \")\n",
    "print(invers_A)"
   ]
  },
  {
   "cell_type": "code",
   "execution_count": 8,
   "id": "99453dc4",
   "metadata": {},
   "outputs": [
    {
     "name": "stdout",
     "output_type": "stream",
     "text": [
      "\n",
      "Nilai determinant: \n",
      "694.9999999999999\n"
     ]
    }
   ],
   "source": [
    "# nilai determinan\n",
    "\n",
    "import numpy as np\n",
    "A = np.array([[20, 45], [13, 64]])\n",
    "\n",
    "determinant_A = np.linalg.det(A)\n",
    "print(\"\\nNilai determinant: \")\n",
    "print(determinant_A)"
   ]
  },
  {
   "cell_type": "code",
   "execution_count": null,
   "id": "bf604fda",
   "metadata": {},
   "outputs": [],
   "source": []
  }
 ],
 "metadata": {
  "kernelspec": {
   "display_name": "Python 3 (ipykernel)",
   "language": "python",
   "name": "python3"
  },
  "language_info": {
   "codemirror_mode": {
    "name": "ipython",
    "version": 3
   },
   "file_extension": ".py",
   "mimetype": "text/x-python",
   "name": "python",
   "nbconvert_exporter": "python",
   "pygments_lexer": "ipython3",
   "version": "3.11.5"
  }
 },
 "nbformat": 4,
 "nbformat_minor": 5
}
